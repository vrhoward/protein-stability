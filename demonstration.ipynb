{
 "cells": [
  {
   "cell_type": "code",
   "execution_count": 4,
   "metadata": {
    "collapsed": true,
    "ExecuteTime": {
     "end_time": "2023-11-29T15:02:27.217756Z",
     "start_time": "2023-11-29T15:02:09.723872Z"
    }
   },
   "outputs": [
    {
     "data": {
      "text/plain": "Downloading config.json:   0%|          | 0.00/768 [00:00<?, ?B/s]",
      "application/vnd.jupyter.widget-view+json": {
       "version_major": 2,
       "version_minor": 0,
       "model_id": "612427166d7943b79d0b1dec7b1cb5cb"
      }
     },
     "metadata": {},
     "output_type": "display_data"
    },
    {
     "data": {
      "text/plain": "Downloading model.safetensors:   0%|          | 0.00/136M [00:00<?, ?B/s]",
      "application/vnd.jupyter.widget-view+json": {
       "version_major": 2,
       "version_minor": 0,
       "model_id": "3ad59f755e3442baa93e7992d1e33784"
      }
     },
     "metadata": {},
     "output_type": "display_data"
    },
    {
     "data": {
      "text/plain": "Downloading tokenizer_config.json:   0%|          | 0.00/1.10k [00:00<?, ?B/s]",
      "application/vnd.jupyter.widget-view+json": {
       "version_major": 2,
       "version_minor": 0,
       "model_id": "4937c5495ab14007845555e1db9f1e7b"
      }
     },
     "metadata": {},
     "output_type": "display_data"
    },
    {
     "data": {
      "text/plain": "Downloading vocab.txt:   0%|          | 0.00/93.0 [00:00<?, ?B/s]",
      "application/vnd.jupyter.widget-view+json": {
       "version_major": 2,
       "version_minor": 0,
       "model_id": "931d09f09afb4811a6ad6e24ce3d698e"
      }
     },
     "metadata": {},
     "output_type": "display_data"
    },
    {
     "data": {
      "text/plain": "Downloading (…)cial_tokens_map.json:   0%|          | 0.00/125 [00:00<?, ?B/s]",
      "application/vnd.jupyter.widget-view+json": {
       "version_major": 2,
       "version_minor": 0,
       "model_id": "e657835f0356426ca75c6dd493e0f0ab"
      }
     },
     "metadata": {},
     "output_type": "display_data"
    },
    {
     "name": "stderr",
     "output_type": "stream",
     "text": [
      "Token indices sequence length is longer than the specified maximum sequence length for this model (1275 > 1024). Running this sequence through the model will result in indexing errors\n"
     ]
    },
    {
     "data": {
      "text/plain": "[{'score': 0.1731666475534439,\n  'token': 4,\n  'token_str': 'L',\n  'sequence': 'M F V F L V L L P L V S S Q C V N L T T R T Q L P P A Y T N S F T R G V Y Y P D K V F R S S V L H S T Q D L F L P F F S N V T W F H A I H V S G T N G T K R F D N P V L P F N D G V Y F A S T E K S N I I R G W I F G T T L D S K T Q S L L I V N N A T N V V I K V C E F Q F C N D P F L G V Y Y H K N N K S W M E S E F R V Y S S A N N C T F E Y V S Q P F L M D L E G K Q G N F K N L R E F V F K N I D G Y F K I Y S K H T P I N L V R D L P Q G F S A L E P L V D L P I G I N I T R F Q T L L A L H R S Y L T P G D S S S G W T A G A A A Y Y V G Y L Q P R T F L L K Y N E N G T I T D A V D C A L D P L S E T K C T L K S F T V E K G I Y Q T S N F R V Q P T E S I V R F P N I T N L C P F G E V F N A T R F A S V Y A W N R K R I S N C V A D Y S V L Y N S A S F S T F K C Y G V S P T K L N D L C F T N V Y A D S F V I R G D E V R Q I A P G Q T G K I A D Y N Y K L P D D F T G C V I A W N S N N L D S K V G G N Y N Y L Y R L F R K S N L K P F E R D I S T E I Y Q A G S T P C N G V E G F N C Y F P L Q S Y G F Q P T N G V G Y Q P Y R V V V L S F E L L H A P A T V C G P K K S T N L V K N K C V N F N F N G L T G T G V L T E S N K K F L P F Q Q F G R D I A D T T D A V R D P Q T L E I L D I T P C S F G G V S V I T P G T N T S N Q V A V L Y Q D V N C T E V P V A I H A D Q L T P T W R V Y S T G S N V F Q T R A G C L I G A E H V N N S Y E C D I P I G A G I C A S Y Q T Q T N S P R R A R S V A S Q S I I A Y T M S L G A E N S V A Y S N N S I A I P T N F T I S V T T E I L P V S M T K T S V D C T M Y I C G D S T E C S N L L L Q Y G S F C T Q L N R A L T G I A V E Q D K N T Q E V F A Q V K Q I Y K T P P I K D F G G F N F S Q I L P D P S K P S K R S L I E D L L F N K V T L A D A G F I K Q Y G D C L G D I A A R D L I C A Q K F N G L T V L P P L L T D E M I A Q Y T S A L L A G T I T S G W T F G A G A A L Q I P F A M Q M A Y R F N G I G V T Q N V L Y E N Q K L I A N Q F N S A I G K I Q D S L S S T A S A L G K L Q D V V N Q N A Q A L N T L V K Q L S S N F G A I S S V L N D I L S R L D K V E A E V Q I D R L I T G R L Q S L Q T Y V T Q Q L I R A A E I R A S A N L A A T K M S E C V L G Q S K R V D F C G K G Y H L M S F P Q S A P H G V V F L H V T Y V P A Q E K N F T T A P A I C H D G K A H F P R E G V F V S N G T H W F V T Q R N F Y E P Q I I T T D N T F V S G N C D V V I G I V N N T V Y D P L Q P E L D S F K E E L D K Y F K N H T S P D V D L G D I S G I N A S V V N I Q K E I D R L N E V A K N L N E S L I D L Q E L G K Y E Q Y I K W P W Y I W L G F I A G L I A I V M V T I M L C C M T S C C S C L K G C C S C G S C C K F D E D D S E P V L K G V K L H Y T'},\n {'score': 0.1361897885799408,\n  'token': 12,\n  'token_str': 'I',\n  'sequence': 'M F V F L V L L P L V S S Q C V N L T T R T Q L P P A Y T N S F T R G V Y Y P D K V F R S S V L H S T Q D L F L P F F S N V T W F H A I H V S G T N G T K R F D N P V L P F N D G V Y F A S T E K S N I I R G W I F G T T L D S K T Q S L L I V N N A T N V V I K V C E F Q F C N D P F L G V Y Y H K N N K S W M E S E F R V Y S S A N N C T F E Y V S Q P F L M D L E G K Q G N F K N L R E F V F K N I D G Y F K I Y S K H T P I N L V R D L P Q G F S A L E P L V D L P I G I N I T R F Q T L L A L H R S Y L T P G D S S S G W T A G A A A Y Y V G Y L Q P R T F L L K Y N E N G T I T D A V D C A L D P L S E T K C T L K S F T V E K G I Y Q T S N F R V Q P T E S I V R F P N I T N L C P F G E V F N A T R F A S V Y A W N R K R I S N C V A D Y S V L Y N S A S F S T F K C Y G V S P T K L N D L C F T N V Y A D S F V I R G D E V R Q I A P G Q T G K I A D Y N Y K L P D D F T G C V I A W N S N N L D S K V G G N Y N Y L Y R L F R K S N L K P F E R D I S T E I Y Q A G S T P C N G V E G F N C Y F P L Q S Y G F Q P T N G V G Y Q P Y R V V V L S F E L L H A P A T V C G P K K S T N L V K N K C V N F N F N G L T G T G V L T E S N K K F L P F Q Q F G R D I A D T T D A V R D P Q T L E I L D I T P C S F G G V S V I T P G T N T S N Q V A V L Y Q D V N C T E V P V A I H A D Q L T P T W R V Y S T G S N V F Q T R A G C L I G A E H V N N S Y E C D I P I G A G I C A S Y Q T Q T N S P R R A R S V A S Q S I I A Y T M S L G A E N S V A Y S N N S I A I P T N F T I S V T T E I L P V S M T K T S V D C T M Y I C G D S T E C S N L L L Q Y G S F C T Q L N R A L T G I A V E Q D K N T Q E V F A Q V K Q I Y K T P P I K D F G G F N F S Q I L P D P S K P S K R S I I E D L L F N K V T L A D A G F I K Q Y G D C L G D I A A R D L I C A Q K F N G L T V L P P L L T D E M I A Q Y T S A L L A G T I T S G W T F G A G A A L Q I P F A M Q M A Y R F N G I G V T Q N V L Y E N Q K L I A N Q F N S A I G K I Q D S L S S T A S A L G K L Q D V V N Q N A Q A L N T L V K Q L S S N F G A I S S V L N D I L S R L D K V E A E V Q I D R L I T G R L Q S L Q T Y V T Q Q L I R A A E I R A S A N L A A T K M S E C V L G Q S K R V D F C G K G Y H L M S F P Q S A P H G V V F L H V T Y V P A Q E K N F T T A P A I C H D G K A H F P R E G V F V S N G T H W F V T Q R N F Y E P Q I I T T D N T F V S G N C D V V I G I V N N T V Y D P L Q P E L D S F K E E L D K Y F K N H T S P D V D L G D I S G I N A S V V N I Q K E I D R L N E V A K N L N E S L I D L Q E L G K Y E Q Y I K W P W Y I W L G F I A G L I A I V M V T I M L C C M T S C C S C L K G C C S C G S C C K F D E D D S E P V L K G V K L H Y T'},\n {'score': 0.12020056694746017,\n  'token': 7,\n  'token_str': 'V',\n  'sequence': 'M F V F L V L L P L V S S Q C V N L T T R T Q L P P A Y T N S F T R G V Y Y P D K V F R S S V L H S T Q D L F L P F F S N V T W F H A I H V S G T N G T K R F D N P V L P F N D G V Y F A S T E K S N I I R G W I F G T T L D S K T Q S L L I V N N A T N V V I K V C E F Q F C N D P F L G V Y Y H K N N K S W M E S E F R V Y S S A N N C T F E Y V S Q P F L M D L E G K Q G N F K N L R E F V F K N I D G Y F K I Y S K H T P I N L V R D L P Q G F S A L E P L V D L P I G I N I T R F Q T L L A L H R S Y L T P G D S S S G W T A G A A A Y Y V G Y L Q P R T F L L K Y N E N G T I T D A V D C A L D P L S E T K C T L K S F T V E K G I Y Q T S N F R V Q P T E S I V R F P N I T N L C P F G E V F N A T R F A S V Y A W N R K R I S N C V A D Y S V L Y N S A S F S T F K C Y G V S P T K L N D L C F T N V Y A D S F V I R G D E V R Q I A P G Q T G K I A D Y N Y K L P D D F T G C V I A W N S N N L D S K V G G N Y N Y L Y R L F R K S N L K P F E R D I S T E I Y Q A G S T P C N G V E G F N C Y F P L Q S Y G F Q P T N G V G Y Q P Y R V V V L S F E L L H A P A T V C G P K K S T N L V K N K C V N F N F N G L T G T G V L T E S N K K F L P F Q Q F G R D I A D T T D A V R D P Q T L E I L D I T P C S F G G V S V I T P G T N T S N Q V A V L Y Q D V N C T E V P V A I H A D Q L T P T W R V Y S T G S N V F Q T R A G C L I G A E H V N N S Y E C D I P I G A G I C A S Y Q T Q T N S P R R A R S V A S Q S I I A Y T M S L G A E N S V A Y S N N S I A I P T N F T I S V T T E I L P V S M T K T S V D C T M Y I C G D S T E C S N L L L Q Y G S F C T Q L N R A L T G I A V E Q D K N T Q E V F A Q V K Q I Y K T P P I K D F G G F N F S Q I L P D P S K P S K R S V I E D L L F N K V T L A D A G F I K Q Y G D C L G D I A A R D L I C A Q K F N G L T V L P P L L T D E M I A Q Y T S A L L A G T I T S G W T F G A G A A L Q I P F A M Q M A Y R F N G I G V T Q N V L Y E N Q K L I A N Q F N S A I G K I Q D S L S S T A S A L G K L Q D V V N Q N A Q A L N T L V K Q L S S N F G A I S S V L N D I L S R L D K V E A E V Q I D R L I T G R L Q S L Q T Y V T Q Q L I R A A E I R A S A N L A A T K M S E C V L G Q S K R V D F C G K G Y H L M S F P Q S A P H G V V F L H V T Y V P A Q E K N F T T A P A I C H D G K A H F P R E G V F V S N G T H W F V T Q R N F Y E P Q I I T T D N T F V S G N C D V V I G I V N N T V Y D P L Q P E L D S F K E E L D K Y F K N H T S P D V D L G D I S G I N A S V V N I Q K E I D R L N E V A K N L N E S L I D L Q E L G K Y E Q Y I K W P W Y I W L G F I A G L I A I V M V T I M L C C M T S C C S C L K G C C S C G S C C K F D E D D S E P V L K G V K L H Y T'}]"
     },
     "execution_count": 4,
     "metadata": {},
     "output_type": "execute_result"
    }
   ],
   "source": [
    "from transformers import pipeline\n",
    "\n",
    "sequence = \"MFVFLVLLPLVSSQCVNLTTRTQLPPAYTNSFTRGVYYPDKVFRSSVLHSTQDLFLPFFSNVTWFHAIHVSGTNGTKRFDNPVLPFNDGVYFASTEKSNIIRGWIFGTTLDSKTQSLLIVNNATNVVIKVCEFQFCNDPFLGVYYHKNNKSWMESEFRVYSSANNCTFEYVSQPFLMDLEGKQGNFKNLREFVFKNIDGYFKIYSKHTPINLVRDLPQGFSALEPLVDLPIGINITRFQTLLALHRSYLTPGDSSSGWTAGAAAYYVGYLQPRTFLLKYNENGTITDAVDCALDPLSETKCTLKSFTVEKGIYQTSNFRVQPTESIVRFPNITNLCPFGEVFNATRFASVYAWNRKRISNCVADYSVLYNSASFSTFKCYGVSPTKLNDLCFTNVYADSFVIRGDEVRQIAPGQTGKIADYNYKLPDDFTGCVIAWNSNNLDSKVGGNYNYLYRLFRKSNLKPFERDISTEIYQAGSTPCNGVEGFNCYFPLQSYGFQPTNGVGYQPYRVVVLSFELLHAPATVCGPKKSTNLVKNKCVNFNFNGLTGTGVLTESNKKFLPFQQFGRDIADTTDAVRDPQTLEILDITPCSFGGVSVITPGTNTSNQVAVLYQDVNCTEVPVAIHADQLTPTWRVYSTGSNVFQTRAGCLIGAEHVNNSYECDIPIGAGICASYQTQTNSPRRARSVASQSIIAYTMSLGAENSVAYSNNSIAIPTNFTISVTTEILPVSMTKTSVDCTMYICGDSTECSNLLLQYGSFCTQLNRALTGIAVEQDKNTQEVFAQVKQIYKTPPIKDFGGFNFSQILPDPSKPSKRS<mask>IEDLLFNKVTLADAGFIKQYGDCLGDIAARDLICAQKFNGLTVLPPLLTDEMIAQYTSALLAGTITSGWTFGAGAALQIPFAMQMAYRFNGIGVTQNVLYENQKLIANQFNSAIGKIQDSLSSTASALGKLQDVVNQNAQALNTLVKQLSSNFGAISSVLNDILSRLDKVEAEVQIDRLITGRLQSLQTYVTQQLIRAAEIRASANLAATKMSECVLGQSKRVDFCGKGYHLMSFPQSAPHGVVFLHVTYVPAQEKNFTTAPAICHDGKAHFPREGVFVSNGTHWFVTQRNFYEPQIITTDNTFVSGNCDVVIGIVNNTVYDPLQPELDSFKEELDKYFKNHTSPDVDLGDISGINASVVNIQKEIDRLNEVAKNLNESLIDLQELGKYEQYIKWPWYIWLGFIAGLIAIVMVTIMLCCMTSCCSCLKGCCSCGSCCKFDEDDSEPVLKGVKLHYT\"\n",
    "\n",
    "mask_filler = pipeline(\"fill-mask\", \"vrhoward/esm2_t12_35M_UR50D-finetuned\")\n",
    "mask_filler(sequence, top_k=3)"
   ]
  },
  {
   "cell_type": "code",
   "execution_count": null,
   "outputs": [],
   "source": [],
   "metadata": {
    "collapsed": false
   }
  }
 ],
 "metadata": {
  "kernelspec": {
   "display_name": "Python 3",
   "language": "python",
   "name": "python3"
  },
  "language_info": {
   "codemirror_mode": {
    "name": "ipython",
    "version": 2
   },
   "file_extension": ".py",
   "mimetype": "text/x-python",
   "name": "python",
   "nbconvert_exporter": "python",
   "pygments_lexer": "ipython2",
   "version": "2.7.6"
  }
 },
 "nbformat": 4,
 "nbformat_minor": 0
}
